{
  "nbformat": 4,
  "nbformat_minor": 0,
  "metadata": {
    "colab": {
      "provenance": [],
      "authorship_tag": "ABX9TyOPU4fqFlsxgzJX3Z2Y8KEb",
      "include_colab_link": true
    },
    "kernelspec": {
      "name": "python3",
      "display_name": "Python 3"
    },
    "language_info": {
      "name": "python"
    }
  },
  "cells": [
    {
      "cell_type": "markdown",
      "metadata": {
        "id": "view-in-github",
        "colab_type": "text"
      },
      "source": [
        "<a href=\"https://colab.research.google.com/github/JuliusCaesar1/Projects/blob/main/networkReader.ipynb\" target=\"_parent\"><img src=\"https://colab.research.google.com/assets/colab-badge.svg\" alt=\"Open In Colab\"/></a>"
      ]
    },
    {
      "cell_type": "code",
      "execution_count": 9,
      "metadata": {
        "colab": {
          "base_uri": "https://localhost:8080/",
          "height": 387
        },
        "id": "0Zv1xMIhq7Pt",
        "outputId": "8334b59e-ee73-4520-94e9-81015f4490bb"
      },
      "outputs": [
        {
          "output_type": "stream",
          "name": "stdout",
          "text": [
            "Local IP        Remote IP       Remote Host                    Outgoing Data   Incoming Data   Firewall       \n",
            "-----------------------------------------------------------------------------------------------\n"
          ]
        },
        {
          "output_type": "error",
          "ename": "KeyError",
          "evalue": "'Outgoing Data'",
          "traceback": [
            "\u001b[0;31m---------------------------------------------------------------------------\u001b[0m",
            "\u001b[0;31mKeyError\u001b[0m                                  Traceback (most recent call last)",
            "\u001b[0;32m<ipython-input-9-30f2cb829283>\u001b[0m in \u001b[0;36m<cell line: 36>\u001b[0;34m()\u001b[0m\n\u001b[1;32m     36\u001b[0m \u001b[0;32mif\u001b[0m \u001b[0m__name__\u001b[0m \u001b[0;34m==\u001b[0m \u001b[0;34m\"__main__\"\u001b[0m\u001b[0;34m:\u001b[0m\u001b[0;34m\u001b[0m\u001b[0;34m\u001b[0m\u001b[0m\n\u001b[1;32m     37\u001b[0m     \u001b[0mnetwork_info\u001b[0m \u001b[0;34m=\u001b[0m \u001b[0mget_network_info\u001b[0m\u001b[0;34m(\u001b[0m\u001b[0;34m)\u001b[0m\u001b[0;34m\u001b[0m\u001b[0;34m\u001b[0m\u001b[0m\n\u001b[0;32m---> 38\u001b[0;31m     \u001b[0mprint_network_info\u001b[0m\u001b[0;34m(\u001b[0m\u001b[0mnetwork_info\u001b[0m\u001b[0;34m)\u001b[0m\u001b[0;34m\u001b[0m\u001b[0;34m\u001b[0m\u001b[0m\n\u001b[0m",
            "\u001b[0;32m<ipython-input-9-30f2cb829283>\u001b[0m in \u001b[0;36mprint_network_info\u001b[0;34m(network_info)\u001b[0m\n\u001b[1;32m     32\u001b[0m     \u001b[0mprint\u001b[0m\u001b[0;34m(\u001b[0m\u001b[0;34m\"-\"\u001b[0m \u001b[0;34m*\u001b[0m \u001b[0;36m95\u001b[0m\u001b[0;34m)\u001b[0m\u001b[0;34m\u001b[0m\u001b[0;34m\u001b[0m\u001b[0m\n\u001b[1;32m     33\u001b[0m     \u001b[0;32mfor\u001b[0m \u001b[0minfo\u001b[0m \u001b[0;32min\u001b[0m \u001b[0mnetwork_info\u001b[0m\u001b[0;34m:\u001b[0m\u001b[0;34m\u001b[0m\u001b[0;34m\u001b[0m\u001b[0m\n\u001b[0;32m---> 34\u001b[0;31m         \u001b[0mprint\u001b[0m\u001b[0;34m(\u001b[0m\u001b[0;34m\"{:<15} {:<15} {:<30} {:<15} {:<15} {:<15}\"\u001b[0m\u001b[0;34m.\u001b[0m\u001b[0mformat\u001b[0m\u001b[0;34m(\u001b[0m\u001b[0minfo\u001b[0m\u001b[0;34m[\u001b[0m\u001b[0;34m\"Local IP\"\u001b[0m\u001b[0;34m]\u001b[0m\u001b[0;34m,\u001b[0m \u001b[0minfo\u001b[0m\u001b[0;34m[\u001b[0m\u001b[0;34m\"Remote IP\"\u001b[0m\u001b[0;34m]\u001b[0m\u001b[0;34m,\u001b[0m \u001b[0minfo\u001b[0m\u001b[0;34m[\u001b[0m\u001b[0;34m\"Remote Host\"\u001b[0m\u001b[0;34m]\u001b[0m\u001b[0;34m,\u001b[0m \u001b[0minfo\u001b[0m\u001b[0;34m[\u001b[0m\u001b[0;34m\"Outgoing Data\"\u001b[0m\u001b[0;34m]\u001b[0m\u001b[0;34m,\u001b[0m \u001b[0minfo\u001b[0m\u001b[0;34m[\u001b[0m\u001b[0;34m\"Incoming Data\"\u001b[0m\u001b[0;34m]\u001b[0m\u001b[0;34m,\u001b[0m \u001b[0minfo\u001b[0m\u001b[0;34m[\u001b[0m\u001b[0;34m\"Firewall\"\u001b[0m\u001b[0;34m]\u001b[0m\u001b[0;34m)\u001b[0m\u001b[0;34m)\u001b[0m\u001b[0;34m\u001b[0m\u001b[0;34m\u001b[0m\u001b[0m\n\u001b[0m\u001b[1;32m     35\u001b[0m \u001b[0;34m\u001b[0m\u001b[0m\n\u001b[1;32m     36\u001b[0m \u001b[0;32mif\u001b[0m \u001b[0m__name__\u001b[0m \u001b[0;34m==\u001b[0m \u001b[0;34m\"__main__\"\u001b[0m\u001b[0;34m:\u001b[0m\u001b[0;34m\u001b[0m\u001b[0;34m\u001b[0m\u001b[0m\n",
            "\u001b[0;31mKeyError\u001b[0m: 'Outgoing Data'"
          ]
        }
      ],
      "source": [
        "import psutil\n",
        "import socket\n",
        "\n",
        "def get_network_info():\n",
        "    network_info = []\n",
        "\n",
        "    connections = psutil.net_connections()\n",
        "    for conn in connections:\n",
        "        if conn.laddr and conn.raddr:\n",
        "            local_ip = conn.laddr.ip\n",
        "            remote_ip = conn.raddr.ip\n",
        "            try:\n",
        "                remote_host = socket.gethostbyaddr(remote_ip)[0]\n",
        "            except socket.herror:\n",
        "                remote_host = \"N/A\"\n",
        "\n",
        "            firewall = \"Enabled\" if conn.status != \"ESTABLISHED\" else \"Disabled\"\n",
        "            network_info.append({\n",
        "                \"Local IP\": local_ip,\n",
        "                \"Remote IP\": remote_ip,\n",
        "                \"Remote Host\": remote_host,\n",
        "                #\"Outgoing Data\": conn.sent,\n",
        "                #\"Incoming Data\": conn.recv,\n",
        "                \"Firewall\": firewall\n",
        "            })\n",
        "\n",
        "    return network_info\n",
        "\n",
        "def print_network_info(network_info):\n",
        "    header = [\"Local IP\", \"Remote IP\", \"Remote Host\", \"Outgoing Data\", \"Incoming Data\", \"Firewall\"]\n",
        "    print(\"{:<15} {:<15} {:<30} {:<15} {:<15} {:<15}\".format(*header))\n",
        "    print(\"-\" * 95)\n",
        "    for info in network_info:\n",
        "        print(\"{:<15} {:<15} {:<30} {:<15} {:<15} {:<15}\".format(info[\"Local IP\"], info[\"Remote IP\"], info[\"Remote Host\"], info[\"Outgoing Data\"], info[\"Incoming Data\"], info[\"Firewall\"]))\n",
        "\n",
        "if __name__ == \"__main__\":\n",
        "    network_info = get_network_info()\n",
        "    print_network_info(network_info)"
      ]
    },
    {
      "source": [
        "import psutil\n",
        "import socket\n",
        "\n",
        "def get_network_info():\n",
        "    network_info = []\n",
        "\n",
        "    connections = psutil.net_connections()\n",
        "    for conn in connections:\n",
        "        if conn.laddr and conn.raddr:\n",
        "            local_ip = conn.laddr.ip\n",
        "            remote_ip = conn.raddr.ip\n",
        "            try:\n",
        "                remote_host = socket.gethostbyaddr(remote_ip)[0]\n",
        "            except socket.herror:\n",
        "                remote_host = \"N/A\"\n",
        "\n",
        "            firewall = \"Enabled\" if conn.status != \"ESTABLISHED\" else \"Disabled\"\n",
        "            network_info.append({\n",
        "                \"Local IP\": local_ip,\n",
        "                \"Remote IP\": remote_ip,\n",
        "                \"Remote Host\": remote_host,\n",
        "                \"Outgoing Data\": conn.sent, # Add this back\n",
        "                \"Incoming Data\": conn.recv, # Add this back\n",
        "                \"Firewall\": firewall\n",
        "            })\n",
        "\n",
        "    return network_info\n",
        "\n",
        "def print_network_info(network_info):\n",
        "    header = [\"Local IP\", \"Remote IP\", \"Remote Host\", \"Outgoing Data\", \"Incoming Data\", \"Firewall\"]\n",
        "    print(\"{:<15} {:<15} {:<30} {:<15} {:<15} {:<15}\".format(*header))\n",
        "    print(\"-\" * 95)\n",
        "    for info in network_info:\n",
        "        print(\"{:<15} {:<15} {:<30} {:<15} {:<15} {:<15}\".format(info[\"Local IP\"], info[\"Remote IP\"], info[\"Remote Host\"], info[\"Outgoing Data\"], info[\"Incoming Data\"], info[\"Firewall\"]))\n",
        "\n",
        "if __name__ == \"__main__\":\n",
        "    network_info = get_network_info()\n",
        "    print_network_info(network_info)"
      ],
      "cell_type": "code",
      "metadata": {
        "colab": {
          "base_uri": "https://localhost:8080/",
          "height": 315
        },
        "id": "Zg8RtA_jvAvI",
        "outputId": "1068382a-9702-4a54-d37b-dce70abafe72"
      },
      "execution_count": 10,
      "outputs": [
        {
          "output_type": "error",
          "ename": "AttributeError",
          "evalue": "'sconn' object has no attribute 'sent'",
          "traceback": [
            "\u001b[0;31m---------------------------------------------------------------------------\u001b[0m",
            "\u001b[0;31mAttributeError\u001b[0m                            Traceback (most recent call last)",
            "\u001b[0;32m<ipython-input-10-64478f1eb36c>\u001b[0m in \u001b[0;36m<cell line: 36>\u001b[0;34m()\u001b[0m\n\u001b[1;32m     35\u001b[0m \u001b[0;34m\u001b[0m\u001b[0m\n\u001b[1;32m     36\u001b[0m \u001b[0;32mif\u001b[0m \u001b[0m__name__\u001b[0m \u001b[0;34m==\u001b[0m \u001b[0;34m\"__main__\"\u001b[0m\u001b[0;34m:\u001b[0m\u001b[0;34m\u001b[0m\u001b[0;34m\u001b[0m\u001b[0m\n\u001b[0;32m---> 37\u001b[0;31m     \u001b[0mnetwork_info\u001b[0m \u001b[0;34m=\u001b[0m \u001b[0mget_network_info\u001b[0m\u001b[0;34m(\u001b[0m\u001b[0;34m)\u001b[0m\u001b[0;34m\u001b[0m\u001b[0;34m\u001b[0m\u001b[0m\n\u001b[0m\u001b[1;32m     38\u001b[0m     \u001b[0mprint_network_info\u001b[0m\u001b[0;34m(\u001b[0m\u001b[0mnetwork_info\u001b[0m\u001b[0;34m)\u001b[0m\u001b[0;34m\u001b[0m\u001b[0;34m\u001b[0m\u001b[0m\n",
            "\u001b[0;32m<ipython-input-10-64478f1eb36c>\u001b[0m in \u001b[0;36mget_network_info\u001b[0;34m()\u001b[0m\n\u001b[1;32m     20\u001b[0m                 \u001b[0;34m\"Remote IP\"\u001b[0m\u001b[0;34m:\u001b[0m \u001b[0mremote_ip\u001b[0m\u001b[0;34m,\u001b[0m\u001b[0;34m\u001b[0m\u001b[0;34m\u001b[0m\u001b[0m\n\u001b[1;32m     21\u001b[0m                 \u001b[0;34m\"Remote Host\"\u001b[0m\u001b[0;34m:\u001b[0m \u001b[0mremote_host\u001b[0m\u001b[0;34m,\u001b[0m\u001b[0;34m\u001b[0m\u001b[0;34m\u001b[0m\u001b[0m\n\u001b[0;32m---> 22\u001b[0;31m                 \u001b[0;34m\"Outgoing Data\"\u001b[0m\u001b[0;34m:\u001b[0m \u001b[0mconn\u001b[0m\u001b[0;34m.\u001b[0m\u001b[0msent\u001b[0m\u001b[0;34m,\u001b[0m \u001b[0;31m# Add this back\u001b[0m\u001b[0;34m\u001b[0m\u001b[0;34m\u001b[0m\u001b[0m\n\u001b[0m\u001b[1;32m     23\u001b[0m                 \u001b[0;34m\"Incoming Data\"\u001b[0m\u001b[0;34m:\u001b[0m \u001b[0mconn\u001b[0m\u001b[0;34m.\u001b[0m\u001b[0mrecv\u001b[0m\u001b[0;34m,\u001b[0m \u001b[0;31m# Add this back\u001b[0m\u001b[0;34m\u001b[0m\u001b[0;34m\u001b[0m\u001b[0m\n\u001b[1;32m     24\u001b[0m                 \u001b[0;34m\"Firewall\"\u001b[0m\u001b[0;34m:\u001b[0m \u001b[0mfirewall\u001b[0m\u001b[0;34m\u001b[0m\u001b[0;34m\u001b[0m\u001b[0m\n",
            "\u001b[0;31mAttributeError\u001b[0m: 'sconn' object has no attribute 'sent'"
          ]
        }
      ]
    },
    {
      "source": [
        "import psutil\n",
        "import socket\n",
        "\n",
        "def get_network_info():\n",
        "    network_info = []\n",
        "\n",
        "    connections = psutil.net_connections()\n",
        "    for conn in connections:\n",
        "        if conn.laddr and conn.raddr:\n",
        "            local_ip = conn.laddr.ip\n",
        "            remote_ip = conn.raddr.ip\n",
        "            try:\n",
        "                remote_host = socket.gethostbyaddr(remote_ip)[0]\n",
        "            except socket.herror:\n",
        "                remote_host = \"N/A\"\n",
        "\n",
        "            firewall = \"Enabled\" if conn.status != \"ESTABLISHED\" else \"Disabled\"\n",
        "            network_info.append({\n",
        "                \"Local IP\": local_ip,\n",
        "                \"Remote IP\": remote_ip,\n",
        "                \"Remote Host\": remote_host,\n",
        "                # \"Outgoing Data\": conn.sent, # Remove these lines as 'sconn' object does not have these attributes\n",
        "                # \"Incoming Data\": conn.recv,\n",
        "                \"Firewall\": firewall\n",
        "            })\n",
        "\n",
        "    return network_info\n",
        "\n",
        "def print_network_info(network_info):\n",
        "    # Adjust the header to remove the non-existent attributes\n",
        "    header = [\"Local IP\", \"Remote IP\", \"Remote Host\", \"Firewall\"]\n",
        "    print(\"{:<15} {:<15} {:<30} {:<15}\".format(*header))\n",
        "    print(\"-\" * 75) # Adjust the length of the separator line\n",
        "    for info in network_info:\n",
        "        # Adjust the print formatting to match the header\n",
        "        print(\"{:<15} {:<15} {:<30} {:<15}\".format(info[\"Local IP\"], info[\"Remote IP\"], info[\"Remote Host\"], info[\"Firewall\"]))\n",
        "\n",
        "if __name__ == \"__main__\":\n",
        "    network_info = get_network_info()\n",
        "    print_network_info(network_info)"
      ],
      "cell_type": "code",
      "metadata": {
        "colab": {
          "base_uri": "https://localhost:8080/"
        },
        "id": "zautWLQevImo",
        "outputId": "401a3e5b-27cd-4eb5-aabb-80b4e24f6733"
      },
      "execution_count": 11,
      "outputs": [
        {
          "output_type": "stream",
          "name": "stdout",
          "text": [
            "Local IP        Remote IP       Remote Host                    Firewall       \n",
            "---------------------------------------------------------------------------\n",
            "::ffff:172.28.0.12 ::ffff:172.28.0.1 N/A                            Enabled        \n",
            "127.0.0.1       127.0.0.1       localhost                      Disabled       \n",
            "127.0.0.1       127.0.0.1       localhost                      Disabled       \n",
            "::ffff:172.28.0.12 ::ffff:172.28.0.1 N/A                            Enabled        \n",
            "172.28.0.12     172.28.0.12     74ff23b2e747                   Disabled       \n",
            "172.28.0.12     172.28.0.12     74ff23b2e747                   Enabled        \n",
            "172.28.0.12     172.28.0.12     74ff23b2e747                   Enabled        \n",
            "172.28.0.12     172.28.0.12     74ff23b2e747                   Enabled        \n",
            "172.28.0.12     172.28.0.12     74ff23b2e747                   Disabled       \n",
            "::ffff:172.28.0.12 ::ffff:172.28.0.1 N/A                            Disabled       \n",
            "172.28.0.12     172.28.0.12     74ff23b2e747                   Enabled        \n",
            "172.28.0.12     172.28.0.12     74ff23b2e747                   Enabled        \n",
            "172.28.0.12     172.28.0.12     74ff23b2e747                   Enabled        \n",
            "::ffff:172.28.0.12 ::ffff:172.28.0.1 N/A                            Disabled       \n",
            "172.28.0.12     172.28.0.12     74ff23b2e747                   Enabled        \n",
            "::ffff:172.28.0.12 ::ffff:172.28.0.1 N/A                            Enabled        \n",
            "172.28.0.12     172.28.0.12     74ff23b2e747                   Disabled       \n",
            "172.28.0.12     172.28.0.12     74ff23b2e747                   Enabled        \n",
            "172.28.0.12     172.28.0.12     74ff23b2e747                   Enabled        \n",
            "127.0.0.1       127.0.0.1       localhost                      Disabled       \n",
            "::ffff:172.28.0.12 ::ffff:172.28.0.1 N/A                            Enabled        \n",
            "::ffff:172.28.0.12 ::ffff:172.28.0.1 N/A                            Enabled        \n",
            "172.28.0.12     172.28.0.12     74ff23b2e747                   Disabled       \n",
            "::ffff:172.28.0.12 ::ffff:172.28.0.1 N/A                            Disabled       \n",
            "172.28.0.12     172.28.0.12     74ff23b2e747                   Disabled       \n",
            "172.28.0.12     172.28.0.12     74ff23b2e747                   Disabled       \n",
            "127.0.0.1       127.0.0.1       localhost                      Disabled       \n",
            "172.28.0.12     172.28.0.12     74ff23b2e747                   Enabled        \n",
            "::ffff:172.28.0.12 ::ffff:172.28.0.1 N/A                            Enabled        \n",
            "172.28.0.12     172.28.0.1      N/A                            Disabled       \n"
          ]
        }
      ]
    }
  ]
}