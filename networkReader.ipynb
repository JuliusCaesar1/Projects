{
  "nbformat": 4,
  "nbformat_minor": 0,
  "metadata": {
    "colab": {
      "provenance": [],
      "authorship_tag": "ABX9TyNdq03DI4ZYOSRD71mx6E/w",
      "include_colab_link": true
    },
    "kernelspec": {
      "name": "python3",
      "display_name": "Python 3"
    },
    "language_info": {
      "name": "python"
    }
  },
  "cells": [
    {
      "cell_type": "markdown",
      "metadata": {
        "id": "view-in-github",
        "colab_type": "text"
      },
      "source": [
        "<a href=\"https://colab.research.google.com/github/JuliusCaesar1/Projects/blob/main/networkReader.ipynb\" target=\"_parent\"><img src=\"https://colab.research.google.com/assets/colab-badge.svg\" alt=\"Open In Colab\"/></a>"
      ]
    },
    {
      "cell_type": "code",
      "execution_count": 4,
      "metadata": {
        "id": "0Zv1xMIhq7Pt"
      },
      "outputs": [],
      "source": [
        "import psutil\n",
        "import socket\n",
        "\n",
        "def get_network_info():\n",
        "    network_info = []\n",
        "\n",
        "    connections = psutil.net_connections()\n",
        "    for conn in connections:\n",
        "        if conn.laddr and conn.raddr:\n",
        "            local_ip = conn.laddr.ip\n",
        "            remote_ip = conn.raddr.ip\n",
        "            try:\n",
        "                remote_host = socket.gethostbyaddr(remote_ip)[0]\n",
        "            except socket.herror:\n",
        "                remote_host = \"N/A\"\n",
        "\n",
        "            firewall = \"Enabled\" if conn.status != \"ESTABLISHED\" else \"Disabled\"\n",
        "            network_info.append({\n",
        "                \"Local IP\": local_ip,\n",
        "                \"Remote IP\": remote_ip,\n",
        "                \"Remote Host\": remote_host,\n",
        "                #\"Outgoing Data\": conn.sent,\n",
        "                #\"Incoming Data\": conn.recv,\n",
        "                \"Firewall\": firewall\n",
        "            })\n",
        "\n",
        "    return network_info\n",
        "\n",
        "def print_network_info(network_info):\n",
        "    header = [\"Local IP\", \"Remote IP\", \"Remote Host\", \"Outgoing Data\", \"Incoming Data\", \"Firewall\"]\n",
        "    print(\"{:<15} {:<15} {:<30} {:<15} {:<15} {:<15}\".format(*header))\n",
        "    print(\"-\" * 95)\n",
        "    for info in network_info:\n",
        "        print(\"{:<15} {:<15} {:<30} {:<15} {:<15} {:<15}\".format(info[\"Local IP\"], info[\"Remote IP\"], info[\"Remote Host\"], info[\"Outgoing Data\"], info[\"Incoming Data\"], info[\"Firewall\"]))\n",
        "\n",
        "if __name__ == \"__main__\":\n",
        "    network_info = get_network_info()"
      ]
    },
    {
      "cell_type": "code",
      "source": [
        "import psutil\n",
        "import socket\n",
        "\n",
        "def get_network_info():\n",
        "    network_info = []\n",
        "\n",
        "    connections = psutil.net_connections()\n",
        "    for conn in connections:\n",
        "        if conn.laddr and conn.raddr:\n",
        "            local_ip = conn.laddr.ip\n",
        "            remote_ip = conn.raddr.ip\n",
        "            try:\n",
        "                remote_host = socket.gethostbyaddr(remote_ip)[0]\n",
        "            except socket.herror:\n",
        "                remote_host = \"N/A\"\n",
        "\n",
        "            firewall = \"Enabled\" if conn.status != \"ESTABLISHED\" else \"Disabled\"\n",
        "            network_info.append({\n",
        "                \"Local IP\": local_ip,\n",
        "                \"Remote IP\": remote_ip,\n",
        "                \"Remote Host\": remote_host,\n",
        "                #\"Outgoing Data\": conn.sent,  # You might want to uncomment this later if you need it\n",
        "                #\"Incoming Data\": conn.recv,  # Remove this line as 'sconn' does not have 'recv' attribute\n",
        "                \"Firewall\": firewall\n",
        "            })\n",
        "\n",
        "    return network_info\n",
        "\n",
        "def print_network_info(network_info):\n",
        "    header = [\"Local IP\", \"Remote IP\", \"Remote Host\", \"Outgoing Data\", \"Incoming Data\", \"Firewall\"]  # Adjust this header if you remove 'Incoming Data'\n",
        "    print(\"{:<15} {:<15} {:<30} {:<15} {:<15} {:<15}\".format(*header))\n",
        "    print(\"-\" * 95)\n",
        "    for info in network_info:\n",
        "        # Adjust the formatting string below if you remove 'Incoming Data'\n",
        "        print(\"{:<15} {:<15} {:<30} {:<15} {:<15} {:<15}\".format(info[\"Local IP\"], info[\"Remote IP\"], info[\"Remote Host\"], info.get(\"Outgoing Data\", \"\"), info.get(\"Incoming Data\", \"\"), info[\"Firewall\"]))\n",
        "\n",
        "if __name__ == \"__main__\":\n",
        "    network_info = get_network_info()\n",
        "    print_network_info(network_info)  # Call the print function to display the information"
      ],
      "metadata": {
        "id": "stwyg1QesFnd"
      },
      "execution_count": null,
      "outputs": []
    }
  ]
}